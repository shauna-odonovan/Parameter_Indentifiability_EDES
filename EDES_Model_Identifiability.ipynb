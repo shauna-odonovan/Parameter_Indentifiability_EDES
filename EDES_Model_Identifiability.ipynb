{
 "cells": [
  {
   "cell_type": "markdown",
   "metadata": {},
   "source": [
    "# Julia programming language\n",
    "\n",
    "Julia is compiled \"just in time\". This means that when you first run a piece of code it complies first and then runs it. This means that the first time your run a piece of code it will take longer than the next time you run it. Before we begin we will install all the packages we need to solve the ODE model, perform the paraemter esimtation, and visualise the results. Start this code at the start of the lecture as it may take some minutes to run. "
   ]
  },
  {
   "cell_type": "code",
   "execution_count": null,
   "metadata": {},
   "outputs": [],
   "source": [
    "# This code will activate the package environment by reading the Project.toml file in this directory\n",
    "# and then instantiate the environment by installing all the packages in the environment.\n",
    "import Pkg; Pkg.activate(@__DIR__); Pkg.instantiate()"
   ]
  },
  {
   "cell_type": "code",
   "execution_count": null,
   "metadata": {},
   "outputs": [],
   "source": [
    "# We will now load the packages that we will use in this notebook\n",
    "\n",
    "# For solving differential equations\n",
    "using OrdinaryDiffEq\n",
    "\n",
    "# CairoMakie is a powerful plotting library that is built on top of Makie.jl\n",
    "using CairoMakie\n",
    "\n",
    "# Random is used for generating random numbers\n",
    "using Random\n",
    "\n",
    "# QuasiMonteCarlo is used for generating initial parameters with Latin Hypercube Sampling\n",
    "using QuasiMonteCarlo\n",
    "\n",
    "# Optimization is used for optimization\n",
    "using Optimization\n",
    "\n",
    "# For Profile Likelihood\n",
    "using LikelihoodProfiler\n",
    "\n",
    "# We also use some utility functions that will help us\n",
    "include(\"utils/SelectionMethods.jl\")"
   ]
  },
  {
   "cell_type": "markdown",
   "metadata": {},
   "source": [
    "\n",
    "*Note:* If you get the following error message:\n",
    "```julia\n",
    "ERROR: LoadError: ArgumentError: Package XXX not found in current path\n",
    "```\n",
    "\n",
    "Please make sure that you have indeed installed the packages by running the cell above. If you have done so, please check in the bottom left corner of the Jupyter Notebook in\n",
    "Visual Studio Code that you have selected the correct Julia environment. You can do this by clicking on the `Julia env` button and selecting the `VITAL_Trainschool_Prep` environment. Then, restart the Notebook by clicking on the `Restart` button on top of the Notebook.\n"
   ]
  },
  {
   "cell_type": "markdown",
   "metadata": {},
   "source": [
    "# The Eindhoven Diabetes Education Simulator\n",
    "\n",
    "The Eindhoven Diabetes Education Simulator (EDES) is physiology-based mathematical model describing the systemic interplay between glucose and insulin. The EDES model describes the rate of appeance of ingested glucose via the gut, the secretion of endogenous glucose from the liver, and both insulin dependent and independent uptake into the peripheral tissues. The EDES model also describes the secretion of insulin in response to changes in plasma glucose using a PD (proportional-derivative) controller. The EDES model consits of four ordinary differential equations describing rate of change of glucose in the stomach (gut_glucose) and plasma (plasma_glucose) and insulin in the plasma (plasma_insulin) and interstitial compartment (interstitial_insulin) and contains 13 kinetic paraemters that have been estimated from literature to describe the average OGTT response. More detail on the mode equations and parameters can be found in the file \"EDES_Explained.pdf\". "
   ]
  },
  {
   "cell_type": "markdown",
   "metadata": {},
   "source": [
    "<img src=\"figures/EDES.png\" width=\"400\" height=\"400\">"
   ]
  },
  {
   "cell_type": "markdown",
   "metadata": {},
   "source": [
    "## Implementing the EDES model in Julia\n",
    "\n",
    "First we will implement the ODE equations. Note the implementation of these equations looks very similar to a model in Matlab or Python. \n",
    "\n",
    "A slight difference you will notice is that we also have the derivative of the state variables as an input to the function. This is because for efficiency, we typically define the ODE function as a *mutating* function. This means that the function will modify the given array `du` in place, rather than returning a new array. This is done to avoid unnecessary memory allocations. The exact details of memory allocations are not important for most users, but for future reference, this is a common pattern seen in developer-level Julia code."
   ]
  },
  {
   "cell_type": "code",
   "execution_count": null,
   "metadata": {},
   "outputs": [],
   "source": [
    "\"\"\"\n",
    "edesode!(du, u, p, t)\n",
    "  This function defines the system of ordinary differential equations (ODEs) that describe the EDES model.\n",
    "\"\"\"\n",
    "function edesode!(du, u, p, t)\n",
    "  #specify initial values\n",
    "    Ggut, Gpl, Ipl, Irem = u\n",
    "    #specify the parameters\n",
    "    k1, k2, k3, k4, k5, k6, k7, k8, k9, k10, tau_i, tau_d, beta, Gren, EGPb, Km, f, Vg, c1, sigma, Dmeal, bw, Gb, Ib = p\n",
    "  \n",
    "    # Equation defining rate of decay of ingested glucose in stomach/gut\n",
    "    du[1] = sigma * k1^sigma * t^(sigma-1) * exp(-(k1*t)^sigma) * Dmeal - k2 * Ggut\n",
    "  \n",
    "    # Equation describing the rate of change of plasma glucose\n",
    "    gliv = EGPb - k3 * (Gpl - Gb) - k4 * beta * Irem #Endogenous glucose production in liver\n",
    "    ggut = k2 * (f / (Vg * bw)) * Ggut #glucose appearing from meal\n",
    "    u_ii =  EGPb * ((Km + Gb)/Gb) * (Gpl / (Km + Gpl)) # insulin independent uptake of glucose to peripheral tissues\n",
    "    u_id = k5 * beta * Irem * (Gpl / (Km + Gpl)) # insulin dependent uptake of glucose to peripheral tissues\n",
    "    u_ren = c1 / (Vg * bw) * (Gpl - Gren) * (Gpl > Gren) # renal excretion of excess glucose (>Gren threshold)\n",
    "  \n",
    "    du[2]  = gliv + ggut - u_ii - u_id - u_ren #full glucose in plasma equation\n",
    "  \n",
    "    #  Equation describing the rate of change of plasma insulin\n",
    "    i_pnc = beta^(-1) * (k6 * (Gpl - Gb) + (k7 / tau_i) * Gb + k8 * tau_d * du[2]) #rate of insulin production in pancreas (funtion of glucose)\n",
    "    i_liv = k7 * Gb * Ipl / (beta * tau_i * Ib) #rate of insulin degredation by liver\n",
    "    i_int = k9 * (Ipl - Ib) #rate of insulin transport to interstitial compartment\n",
    "    du[3] = i_pnc - i_liv - i_int # full insulin in plasma equation\n",
    "    du[4] = i_int - k10 * Irem #full insulin in instertital compartment equation\n",
    "end"
   ]
  },
  {
   "cell_type": "markdown",
   "metadata": {},
   "source": [
    "The we will specify model inputs (body weight, fasting glucose and insulin values, and the amount of glucose in the meal), model parameter values (all kinetic parameters and model constants), and initial values (initial fasting values of each state variable) and build the ODE problem"
   ]
  },
  {
   "cell_type": "code",
   "execution_count": null,
   "metadata": {},
   "outputs": [],
   "source": [
    "# specify physiology parameters\n",
    "bw = 70.0 #body weight (kg)\n",
    "Gb = 5.0 #fasting glucose (mmol/l)\n",
    "Ib = 10.0 #fasting insulin (uIU/ml)\n",
    "\n",
    "# meal parameters\n",
    "Dmeal = 75.0e3 #amount of glucose in meal (mg)\n",
    "\n",
    "# specify the EDES model parameters\n",
    "k1 = 0.0105   # rate of glucose decay in stomach\n",
    "k2 = 0.28     # rate of glucose transport from stomach to plasma\n",
    "k3 = 6.07e-3  # rate of glucose effect on endogenous glucose production\n",
    "k4 = 2.35e-4  # rate of insulin effect on endogenous glucose production\n",
    "k5 = 0.0424   # rate of insulin dependent glucose uptake into peripheral tissues\n",
    "k6 = 2.2975   # rate of insulin secretion (proportional to Gb)\n",
    "k7 = 1.15     # rate of insulin secretion (integral of Gpl)\n",
    "k8 = 7.27     # rate of insulin secretion (derivative of Gpl)\n",
    "k9 = 3.83e-2  # delay parameter plasma to insterstitial insulin\n",
    "k10 = 2.84e-1 # rate constant for degredation of insulin in remote compartment\n",
    "tau_i = 31.0  # time delay integrator function\n",
    "tau_d = 3.0   # time delay \n",
    "beta = 1.0    # conversion factor insulin\n",
    "Gren = 9.0    # threshold for renal excretion of glucose\n",
    "EGPb = 0.043  # basal rate of endogenous glucose production\n",
    "Km = 13.2     # Michealis Menten coeficient for glucose uptake into periphery\n",
    "f = 0.005551  #\n",
    "Vg = 17.0 / bw # volume of distribution for glucose (function of body weight)\n",
    "c1 = 0.1      # model constant\n",
    "sigma = 1.4   # shape factor (appearance of meal)\n",
    "\n",
    "# collection of parameters\n",
    "p = [k1, k2, k3, k4, k5, k6, k7, k8, k9, k10, tau_i, tau_d, beta, Gren, EGPb, Km, f, Vg, c1, sigma, Dmeal, bw, Gb, Ib]\n",
    "\n",
    "# set initial conditions\n",
    "u0 = [0.0, Gb, Ib, 0.0]\n",
    "\n",
    "# set time span\n",
    "tspan = (0.0, 240.0)\n",
    "\n",
    "# define the ODE problem\n",
    "prob = ODEProblem(edesode!, u0, tspan, p)"
   ]
  },
  {
   "cell_type": "markdown",
   "metadata": {},
   "source": [
    "Finally, once we have defined the ODE problem and specified the model constants and parameters, and the intial values of each state variable we will solve the ODE problem and visualise the results. "
   ]
  },
  {
   "cell_type": "code",
   "execution_count": null,
   "metadata": {},
   "outputs": [],
   "source": [
    "#solve the ODE problem using the solve function\n",
    "solution = solve(prob)\n",
    "\n",
    "# visualize the solution\n",
    "solution_figure = let f = Figure(size=(500,500))\n",
    "\n",
    "    ax_g_gut = Axis(f[1,1], xlabel=\"Time [min]\", ylabel=\"Glucose Mass [mg]\", title=\"Gut Glucose\")\n",
    "    ax_g_plasma = Axis(f[1,2], xlabel=\"Time [min]\", ylabel=\"Glucose Concentration [mM]\", title=\"Plasma Glucose\")\n",
    "    ax_i_plasma = Axis(f[2,1], xlabel=\"Time [min]\", ylabel=\"Insulin Concentration [mU/L]\", title=\"Plasma Insulin\")\n",
    "    ax_i_int = Axis(f[2,2], xlabel=\"Time [min]\", ylabel=\"Insulin Concentration [mU/L]\", title=\"Interstitium Insulin\")\n",
    "  \n",
    "    lines!(ax_g_gut, solution.t, solution[1,:], color=Makie.wong_colors()[1])\n",
    "    lines!(ax_g_plasma, solution.t, solution[2,:], color=Makie.wong_colors()[1])\n",
    "    lines!(ax_i_plasma, solution.t, solution[3,:], color=Makie.wong_colors()[1])\n",
    "    lines!(ax_i_int, solution.t, solution[4,:], color=Makie.wong_colors()[1])\n",
    "  \n",
    "  \n",
    "    f\n",
    "  end"
   ]
  },
  {
   "cell_type": "markdown",
   "metadata": {},
   "source": [
    "## Parameter Estimation for EDES\n",
    "\n",
    "Previous work by Erdos et al. has identified a four parameter EDES model, estimaing k1, k5, k6, and k8 from plasma trajectories of glucose and insulin following a meal as being the most parsimonious for generating personlised EDES models from experimental data. \n",
    "|parameter|function|\n",
    "|---------|-------------------------|\n",
    "| k1 | rate of glucose appearence from stomach|\n",
    "| k5 | rate of insulin dependent glucose uptake into tissues|\n",
    "| k6 | rate of insulin secretion in response to plasma glucose (proportional)|\n",
    "| k8 | rate of insulin secretion in response to plasma glucose (derivative) |\n",
    "\n",
    "The remaining parameters are fixed to the population average estimated in the origianl study. Below we will set up the EDES model for parameter estimation by first defining a function that specifies model parameters. "
   ]
  },
  {
   "cell_type": "code",
   "execution_count": null,
   "metadata": {},
   "outputs": [],
   "source": [
    "#define a function that will specify parameters to be estimated and take in values for fixed parameters \n",
    "function construct_parameters(θ, c)\n",
    "\n",
    "    # Estimated parameters\n",
    "    k1 = θ[1]     # rate og glucose decay in stomach\n",
    "    k5 = θ[2]     # rate of insulin dependent glucose uptake into peripheral tissues\n",
    "    k6 = θ[3]     # rate of insulin secretion (proportional to Gb)\n",
    "    k8 = θ[4]     # rate of insulin secretion (derivative of Gpl)\n",
    "    \n",
    "    # Fixed parameters\n",
    "    k2 = c[1]     # rate of glcuose transport from stomach to plasma\n",
    "    k3 = c[2]     # rate of glucose effect on endogenous glucose production\n",
    "    k4 = c[3]     # rate of insulin effect on endogenous glucose production\n",
    "    k7 = c[4]     # rate of insulin secretion (integral of Gpl)\n",
    "    k9 = c[5]     # delay parameter plasma to insterstitial insulin\n",
    "    k10 = c[6]    # rate constant for degredation of insulin in remote compartment\n",
    "    tau_i = c[7]  # time delay integrator function\n",
    "    tau_d = c[8]  # time delay \n",
    "    beta = c[9]   # conversion factor insulin\n",
    "    Gren = c[10]  # threshold for renal excretion of glucose\n",
    "    EGPb = c[11]  # basal rate of endogenous glucose production\n",
    "    Km = c[12]    # Michealis Menten coeficient for glucose uptake into periphery\n",
    "    f = c[13]     #\n",
    "    Vg = c[14]    # volume of distribution for glucose (function of body weight)\n",
    "    c1 = c[15]    # model constant\n",
    "    sigma = c[16] # shape factor (appearance of meal)\n",
    "    Dmeal = c[17] #amount of glucose in meal (mg)\n",
    "    bw = c[18]    #body weight (kg)\n",
    "    Gb = c[19]    #fasting glucose (mmol/l)\n",
    "    Ib = c[20]    #fasting insulin (uIU/ml)\n",
    "    return [k1, k2, k3, k4, k5, k6, k7, k8, k9, k10, tau_i, tau_d, beta, Gren, EGPb, Km, f, Vg, c1, sigma, Dmeal, bw, Gb, Ib]\n",
    "  end"
   ]
  },
  {
   "cell_type": "markdown",
   "metadata": {},
   "source": [
    "We must also define a loss function. In this instance we define our loss function as the sum of square error between the measured plasma glucose and insulin concentrations and the model simulated glucose and insulin values for a given paramter set. To account for the difference in units, and as a results scale of values, between the glucose and insulin values we scale the error values by the maximum of their respective measurements. "
   ]
  },
  {
   "cell_type": "code",
   "execution_count": null,
   "metadata": {},
   "outputs": [],
   "source": [
    "#define our loss function\n",
    "#\n",
    "#loss function takes in values for the estimated parameter and a tuple containing the ODE problem name, values for the fixed parameters and model constants, and the measured experimetnal data. \n",
    "function loss(θ,(problem, constants ,data))\n",
    "  #measured glucose and insulin data, including the sampling time points\n",
    "    data_timepoints = data[1,:]\n",
    "    glucose_data = data[2,:]\n",
    "    insulin_data = data[3,:]\n",
    "  \n",
    "\n",
    "    #generate the full parameter vector by combining current values for the estimated parameters with the fixed values and constants.\n",
    "    p = construct_parameters(θ, constants)\n",
    "\n",
    "    # solve the ode problem for these parameter values\n",
    "    pred = solve(problem, Tsit5(), p=p, saveat=data_timepoints, save_idxs=[2, 3], u0=[0.0, data[2,1], data[3,1], 0.0])\n",
    "    sol = Array(pred)\n",
    "\n",
    "    #calcualte the error between the measured glucose and insulin data and the EDES model simulation\n",
    "    g_loss=(sol[1,:] - glucose_data)/maximum(glucose_data)\n",
    "    i_loss=(sol[2,:] - insulin_data)/maximum(insulin_data)\n",
    "    return sum(abs2, [g_loss; i_loss])\n",
    "  end"
   ]
  },
  {
   "cell_type": "markdown",
   "metadata": {},
   "source": [
    "Now that we have defined our loss function we can estimate values for k1, k5, k6, and k8 from plasma glucose and insulin values measured during an oral glucose tolerance test. This test involved the ingestion of solution containing 75g of glucose. Measured glucose and insulin values are specified below.  "
   ]
  },
  {
   "cell_type": "code",
   "execution_count": null,
   "metadata": {},
   "outputs": [],
   "source": [
    "#import measured glcuose and insulin data\n",
    "#meal plasma glucose and insulin values collected during an OGTT\n",
    "data_glu = [5.4 7.1 8.6 8.9 8.5 7.6 6.6]\n",
    "data_ins = [7.9 36.7 64.8 75.6 79.6 80.5 68.7]\n",
    "data_time = [0 15 30 45 60 90 120]\n",
    "data = [data_time;data_glu;data_ins]\n",
    "#plasma glucose and insulin values for individual A\n",
    "#data_glu = [4.42 5.1 6.2 6.1 5.1 4.7 4.5]\n",
    "#data_ins = [4.4 27.3 59.8 78.1 61.0 46.6 40.6]\n",
    "#data_time = [0 15 30 45 60 90 120]\n",
    "#data = [data_time;data_glu;data_ins]\n",
    "\n",
    "#sepecify the fixed parameter values\n",
    "constants = [k2, k3, k4, k7, k9, k10, tau_i, tau_d, beta, Gren, EGPb, Km, f, Vg, c1, sigma, Dmeal, bw, data_glu[1], data_ins[1]];\n",
    "\n",
    "# plot of the data\n",
    "data_figure = let f = Figure(size=(400,200))\n",
    "\n",
    "    ax_glu = Axis(f[1,1], xlabel=\"Time [min]\", ylabel=\"Concentration [mM]\", title=\"Glucose Data\")\n",
    "    ax_ins = Axis(f[1,2], xlabel=\"Time [min]\", ylabel=\"Concentration [mU/L]\", title=\"Insulin Data\")\n",
    "  \n",
    "    scatter!(ax_glu, data[1,:], data[2,:], color=Makie.wong_colors()[1])\n",
    "    scatter!(ax_ins, data[1,:], data[3,:], color=Makie.wong_colors()[1])\n",
    "  \n",
    "    f\n",
    "  end"
   ]
  },
  {
   "cell_type": "markdown",
   "metadata": {},
   "source": [
    "To estimate model parameters we are using the limited-memory BFGS alogorithm (LBFGS), which is an optimisation algorithm in the family of quasi-Newton methods that approximates the Broyden-Fletcher-GoldFarb-Shanno algorithm . The LBFGS is a local optimiser. Consequently we run this algorithm several times using different parameter initialisations. To ensure we have a good coverage of the parameter space we use a latin-hypercube design. \n",
    "\n",
    "We first start with defining a function to generate some initial parameter guesses. We first generate samples using LatinHyperCube Sampling and then we make use of the `SelectionMethods.jl` utility file for some flexibility if we want to perform some filtering on the initial guesses. For now, we leave it to the default, which is to return all the samples."
   ]
  },
  {
   "cell_type": "code",
   "execution_count": null,
   "metadata": {},
   "outputs": [],
   "source": [
    "function generate_initial_guesses(n_guesses, lower_bounds, upper_bounds; selection_method::SelectionMethod = SelectAll())\n",
    "\n",
    "  initial_guesses = QuasiMonteCarlo.sample(n_guesses, lower_bounds, upper_bounds, LatinHypercubeSample())\n",
    "\n",
    "  return evaluate_and_select(initial_guesses, selection_method)\n",
    "\n",
    "end"
   ]
  },
  {
   "cell_type": "markdown",
   "metadata": {},
   "source": [
    "Now we will perform the parameter generation and subsequent parameter estimation. The advantage of the speed of solvers in Julia means we can start with many parameter initialisations. Note how long it takes to run the parameter estimation proceedure for 1000 initial parameter sets"
   ]
  },
  {
   "cell_type": "code",
   "execution_count": null,
   "metadata": {},
   "outputs": [],
   "source": [
    "# calcuate 1000 initial guesses for parameters being estimated using latin-hypercube design\n",
    "initial_guess = generate_initial_guesses(1000, [0., 0., 0., 0.], [1., 0.5, 5., 20.])\n",
    "\n",
    "\n",
    "results = []\n",
    "\n",
    "optf = OptimizationFunction(loss, AutoForwardDiff())\n",
    "\n",
    "# now run the local optimisation for each initial guess\n",
    "for guess in eachcol(initial_guess)\n",
    "    try\n",
    "      res = solve(OptimizationProblem(optf, vec(guess), (prob, constants, data), lb = [0,0,0,0], ub=[1,0.5,10,25]), Optimization.LBFGS())\n",
    "      push!(results, res)\n",
    "    catch\n",
    "      continue\n",
    "    end\n",
    "end;\n",
    "# find the parameterisation with the lowest cost/objective funtion value\n",
    "best_index = argmin([r.objective for r in results])\n",
    "final = results[best_index].u\n",
    "\n",
    "#solve the ODE problem using the solve function - to get the model simulation for this parameter set\n",
    "solution = solve(prob, p =construct_parameters(final, constants), u0=[0.0, data[1,1], data[2,1], 0.0])\n",
    "\n",
    "# visualize the solution against the data\n",
    "solution_figure = let f = Figure(size=(500,500))\n",
    "\n",
    "    ax_g_gut = Axis(f[1,1], xlabel=\"Time [min]\", ylabel=\"Glucose Mass [mg/dL]\", title=\"Gut Glucose\")\n",
    "    ax_g_plasma = Axis(f[1,2], xlabel=\"Time [min]\", ylabel=\"Glucose Concentration [mM]\", title=\"Plasma Glucose\")\n",
    "    ax_i_plasma = Axis(f[2,1], xlabel=\"Time [min]\", ylabel=\"Insulin Concentration [mU/L]\", title=\"Plasma Insulin\")\n",
    "    ax_i_int = Axis(f[2,2], xlabel=\"Time [min]\", ylabel=\"Insulin Concentration [mU/L]\", title=\"Interstitium Insulin\")\n",
    "  \n",
    "    lines!(ax_g_gut, solution.t, solution[1,:], color=Makie.wong_colors()[1])\n",
    "    lines!(ax_g_plasma, solution.t, solution[2,:], color=Makie.wong_colors()[1])\n",
    "    lines!(ax_i_plasma, solution.t, solution[3,:], color=Makie.wong_colors()[1])\n",
    "    lines!(ax_i_int, solution.t, solution[4,:], color=Makie.wong_colors()[1])\n",
    "\n",
    "    scatter!(ax_i_plasma, data[1,:], data[3,:], color=Makie.wong_colors()[2])\n",
    "    scatter!(ax_g_plasma, data[1,:], data[2,:], color=Makie.wong_colors()[2])\n",
    "  \n",
    "    f\n",
    "end"
   ]
  },
  {
   "cell_type": "markdown",
   "metadata": {},
   "source": [
    "As we estimated parameters using a high number of initial values we can also visualise the distrbution of the parameter estimates using a histogram. This can provide insights into our parameter space, indicating if all solutions converge to a single gloabl minimum or if multiple local minima exist for some parameters. There may also be a uniform distribution of solutions for some parameters suggesting we may not be able to idenitfy this parameter from the data. "
   ]
  },
  {
   "cell_type": "code",
   "execution_count": null,
   "metadata": {},
   "outputs": [],
   "source": [
    "# visualize the histogram of parameter estiamtes for all intiialiaslisations\n",
    "k1=[]\n",
    "k5=[]\n",
    "k6=[]\n",
    "k8=[]\n",
    "for r =1:100\n",
    "  push!(k1,results[r].u[1])\n",
    "  push!(k5,results[r].u[2])\n",
    "  push!(k6,results[r].u[3])\n",
    "  push!(k8,results[r].u[4])\n",
    "end\n",
    "\n",
    "solution_figure = let f = Figure(size=(500,500))\n",
    "\n",
    "    ax_k1 = Axis(f[1,1], xlabel=\"k1 value\", title=\"k1 distribution\")\n",
    "    ax_k5 = Axis(f[1,2], xlabel=\"k5 value\", title=\"k5 distribution\")\n",
    "    ax_k6 = Axis(f[2,1], xlabel=\"k6 value\", title=\"k6 distribution\")\n",
    "    ax_k8 = Axis(f[2,2], xlabel=\"k8 value\", title=\"k8 distribution\")\n",
    "\n",
    "    hist!(ax_k1, k1, bins=10,color=Makie.wong_colors()[1])\n",
    "    hist!(ax_k5, k5, bins=10,color=Makie.wong_colors()[1])\n",
    "    hist!(ax_k6, k6, bins=10,color=Makie.wong_colors()[1])\n",
    "    hist!(ax_k8, k8, bins=10,color=Makie.wong_colors()[1])\n",
    "  \n",
    "    f\n",
    "  end"
   ]
  },
  {
   "cell_type": "markdown",
   "metadata": {},
   "source": [
    "What does the distribution of the parameter estimates across the 1000 initital guesses tell us? is there a parameter where all estimates converge to the same local minima or are there multiple local minima? Is there a parameter with a uniform distribution? What would this mean for parameter identifiability? "
   ]
  },
  {
   "cell_type": "markdown",
   "metadata": {},
   "source": [
    "## Implementation of Profile Likelihood Analysis"
   ]
  },
  {
   "cell_type": "markdown",
   "metadata": {},
   "source": [
    "The manual implementation of Profile Likelihood Analysis requires some tricky functions, but it is not too difficult to implement. We will take you through the steps of implementing the Profile Likelihood Analysis for the EDES model."
   ]
  },
  {
   "cell_type": "markdown",
   "metadata": {},
   "source": [
    "First define a nice struct that contains the output of a PLA. We will fill this struct later."
   ]
  },
  {
   "cell_type": "code",
   "execution_count": null,
   "metadata": {},
   "outputs": [],
   "source": [
    "struct PLAResult\n",
    "    likelihood_values\n",
    "    parameter_values\n",
    "    optim_index::Int\n",
    "    other_parameter_values\n",
    "end"
   ]
  },
  {
   "cell_type": "markdown",
   "metadata": {},
   "source": [
    "The loss function also needs some modification. We define a constructor for modifying the loss function which returns a new loss function. This new loss function will compute the loss when fixing one of the parameters to a certain value. This is the essence of the Profile Likelihood Analysis."
   ]
  },
  {
   "cell_type": "code",
   "execution_count": null,
   "metadata": {},
   "outputs": [],
   "source": [
    "function loss_pla(loss, pla_param, fixed_parameter_value, npar)\n",
    "\n",
    "    # compute the order of the parameters\n",
    "    parameter_order = zeros(Int64,npar)\n",
    "    parameter_order[[1:pla_param-1; (pla_param+1):npar]] .= 1:npar-1\n",
    "    parameter_order[pla_param] = npar\n",
    "    \n",
    "    function _loss_pla(θ, p)\n",
    "      # construct the full parameter vector\n",
    "      θ_full = [θ; fixed_parameter_value][parameter_order]\n",
    "      loss(θ_full, p)\n",
    "    end\n",
    "end"
   ]
  },
  {
   "cell_type": "markdown",
   "metadata": {},
   "source": [
    "Each PLA step then involves fixing the parameter value to a certain value, defining the loss function to use that fixed value, and then running the optimisation algorithm to find the best parameters for the other parameters. We also define a constructor for doing this, which returns a new function that will run a PLA step."
   ]
  },
  {
   "cell_type": "code",
   "execution_count": null,
   "metadata": {},
   "outputs": [],
   "source": [
    "function pla_step(pla_param_index, loss, θ_init, lb, ub, p)\n",
    "    npar = length(θ_init)\n",
    "    lb_pla = [lb[1:pla_param_index-1]; lb[(pla_param_index+1):npar]]\n",
    "    ub_pla = [ub[1:pla_param_index-1]; ub[(pla_param_index+1):npar]]\n",
    "    initial_guess = [θ_init[1:pla_param_index-1]; θ_init[pla_param_index+1:end]]\n",
    "\n",
    "    function _likelihood(pla_param)\n",
    "        loss_function = loss_pla(loss, pla_param_index, pla_param, length(initial_guess)+1)\n",
    "        optfunc = OptimizationFunction(loss_function, Optimization.AutoForwardDiff())\n",
    "        optprob = OptimizationProblem(optfunc, initial_guess, p, lb = lb_pla, ub = ub_pla)\n",
    "\n",
    "        optsol = solve(optprob, Optimization.LBFGS())\n",
    "        optsol.objective, optsol.u\n",
    "    end\n",
    "end"
   ]
  },
  {
   "cell_type": "markdown",
   "metadata": {},
   "source": [
    "Finally, we combine this into a function that will run such a PLA step for a parameter iteratively over a range of values and stores the results in the struct we have defined earlier."
   ]
  },
  {
   "cell_type": "code",
   "execution_count": null,
   "metadata": {},
   "outputs": [],
   "source": [
    "function run_pla(pla_param, param_range, param_optim, loss, initial_guess, lb_pla, ub_pla, p)\n",
    "\n",
    "    # setup PLA likelihood\n",
    "    step = pla_step(\n",
    "        pla_param, \n",
    "        loss, \n",
    "        initial_guess, \n",
    "        lb_pla, ub_pla, p\n",
    "    )\n",
    "\n",
    "    param_range = sort(unique([param_range; param_optim]))\n",
    "    optim_index = findfirst(x -> x == param_optim, param_range)\n",
    "    pla_likelihood_values = Float64[]\n",
    "    other_parameter_values = typeof(initial_guess)[]\n",
    "    parameter_values = typeof(param_optim)[]\n",
    "    for px in param_range\n",
    "        try\n",
    "            l, _p = step(px)\n",
    "            push!(pla_likelihood_values, l)\n",
    "            push!(other_parameter_values, _p)\n",
    "            push!(parameter_values, px)\n",
    "        catch e\n",
    "            throw(e)\n",
    "            continue\n",
    "        end\n",
    "    end\n",
    "    \n",
    "    return PLAResult(pla_likelihood_values, parameter_values, optim_index, other_parameter_values)\n",
    "end"
   ]
  },
  {
   "cell_type": "markdown",
   "metadata": {},
   "source": [
    "If we have a nice struct, we can define a function to plot the results of a PLA run for one parameter."
   ]
  },
  {
   "cell_type": "code",
   "execution_count": null,
   "metadata": {},
   "outputs": [],
   "source": [
    "function likelihood_profile!(ax, pla_result::PLAResult, param_index, param_name)\n",
    "    parameter_values =  pla_result.parameter_values\n",
    "    likelihood_values = pla_result.likelihood_values\n",
    "    lines!(ax, parameter_values, likelihood_values, color=Makie.wong_colors()[1])\n",
    "    #scatter!(ax, parameter_values, likelihood_values, color=Makie.wong_colors()[2])    \n",
    "end"
   ]
  },
  {
   "cell_type": "markdown",
   "metadata": {},
   "source": [
    "## Running the PLA for the EDES model"
   ]
  },
  {
   "cell_type": "markdown",
   "metadata": {},
   "source": [
    "Now we are ready to run PLA for each parameter. We have configured suitable ranges for each parameter."
   ]
  },
  {
   "cell_type": "code",
   "execution_count": null,
   "metadata": {},
   "outputs": [],
   "source": [
    "# configure pla runs for each parameter\n",
    "ranges = [\n",
    "    range(1e-5, 0.05, length=800),\n",
    "    range(0.001, 0.5, length=800),\n",
    "    range(1.0, 12.0, length=400),\n",
    "    range(1e-8, 5.0, length=400)\n",
    "]\n",
    "\n",
    "pla_results = [\n",
    "    run_pla(i, ranges[i], final[i], loss, final, [0.0, 0.0, 0.0, 0.0], [1.0, 0.5, 10.0, 25.0], (prob, constants, data)) for i in eachindex(final)\n",
    "];"
   ]
  },
  {
   "cell_type": "markdown",
   "metadata": {},
   "source": [
    "We can now visualize the results of the PLA for each parameter."
   ]
  },
  {
   "cell_type": "code",
   "execution_count": null,
   "metadata": {},
   "outputs": [],
   "source": [
    "figure_likelihood = let f = Figure()\n",
    "    positions = [(1,1), (1,2), (2,1), (2,2)]\n",
    "    for (i, (pos, param_name)) in enumerate(zip(positions, [\"k1\", \"k5\", \"k6\", \"k8\"]))\n",
    "        ax = Axis(getindex(f, pos...), xlabel=param_name, ylabel=\"Likelihood\", title=\"Profile Likelihood for $param_name\")\n",
    "        likelihood_profile!(ax, pla_results[i], i, param_name)\n",
    "        scatter!(ax, [final[i]], [results[best_index].objective], color=Makie.wong_colors()[2])\n",
    "    end\n",
    "\n",
    "    f\n",
    "end"
   ]
  },
  {
   "cell_type": "markdown",
   "metadata": {},
   "source": [
    "Are the parameters in the four-parameter EDES model identifiable? Which parameters are non-identifiable? Are they structurally or practically non-identifiable? Is this the same for the average case and the two individuals? What could be done to resolve this non-identifiability?\n",
    "\n",
    "### Exercise\n",
    "Fix k8 = 7.25. What is the effect on the parameter estimation? What is the effect on the PLA? Are the paramters now identifiable? "
   ]
  },
  {
   "cell_type": "markdown",
   "metadata": {},
   "source": [
    "# Extending EDES with data from wearable sensors\n",
    "\n",
    "For most individual the three parameter EDES modlel was identifiable given seven venous measurments of glucose and insulin. However, for some individuals, particulary those with faster glucose responses the discrete venous sampling in the standard OGTT often missed essential dynamics and not all parameters were practically non-identifiable. In recent years there has been considerable advancements in wearable flash glucose or continous glucose monitors, which quantify interstitial glucose levels every five mintes. This more freqently sampling has the potential to resolve the issues we have with practical non-identifiabiliy. \n",
    "\n",
    "### Exercise\n",
    "Modify the parameter estimation procedure for the EDES model to work with the CGM glucose data provided below. (Hint: adjust the error function to be dependant only on CGM glucose values - no insulin). Evalute is the EDES model parameters are identifiable using only the CGM data. "
   ]
  },
  {
   "cell_type": "code",
   "execution_count": null,
   "metadata": {},
   "outputs": [],
   "source": [
    "# mean venous glucose and invsulin values measured during an OGTT\n",
    "venous_glu = [5.4 7.1 8.6 8.9 8.5 7.6 6.6]\n",
    "venous_ins = [7.9 36.7 64.8 75.6 79.6 80.5 68.7]\n",
    "venous_time = [0 15 30 45 60 90 120]\n",
    "venous_data = [venous_time;venous_glu;venous_ins]\n",
    "#mean intersitial glucose measured using a CGM device during an OGTT\n",
    "CGM_glu = [6.1 6.2 6.4 6.7 7.1 7.6 8.1 8.5 8.9 9.2 9.4 9.5 9.6 9.6 9.5 9.4 9.3 9.2 9.0 8.9 8.8 8.6 8.5 8.3 8.2 7.9]\n",
    "CGM_time = [0\t5\t10\t15\t20\t25\t30\t35\t40\t45\t50\t55\t60\t65\t70\t75\t80\t85\t90\t95\t100\t105\t110\t115\t120\t125]\n",
    "CGM_data = [CGM_data;CGM_glucose]"
   ]
  }
 ],
 "metadata": {
  "kernelspec": {
   "display_name": "Julia 1.11.4",
   "language": "julia",
   "name": "julia-1.11"
  },
  "language_info": {
   "file_extension": ".jl",
   "mimetype": "application/julia",
   "name": "julia",
   "version": "1.11.4"
  }
 },
 "nbformat": 4,
 "nbformat_minor": 2
}
