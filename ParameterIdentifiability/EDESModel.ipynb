{
 "cells": [
  {
   "attachments": {},
   "cell_type": "markdown",
   "metadata": {},
   "source": [
    "# Getting Started with Julia"
   ]
  },
{
"cell_type":"markdown",
"metadata": {},
"source": [
"\n",
"## The Eindhoven Diabetes Education Simulator\n",
"\n",
"The Eindhoven Diabetes Education Simulator (EDES) is a physiology-based mathematical model of the glucose-insulin systems. Proposed by Maas et al. in 2015 the model describes the appearance of ingested glucose from the stomach, the production of endogenous glucose from the liver during the fasting state and the insuline dependent and indenpendent uptake of the glucose into the peripheral tissues. The model also described the production of insulin in response to changes to plasma glcuose using a PID controler (for computational efficiency we will use a modified EDES model that uses a PD controller in this tutorial) The model consists of four coupled ordinary equuations describing glucose in the gut and plasma, insulin in the plasma and a remote compartment. The model has 13 kinetic parameters. \n",
"\n",
"Work by Erdos et al. idenfied a four-parameter model estimating only k1, k5, k6, and k8 as being the most parsimonious model for generating personlised EDES models by fitting to plamsa glucose and insulin trajectories measured during an oral glucose tolerance test (OGTT)."
]
}
]
}

